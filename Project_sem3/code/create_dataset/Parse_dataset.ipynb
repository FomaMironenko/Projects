{
 "cells": [
  {
   "cell_type": "code",
   "execution_count": 30,
   "metadata": {},
   "outputs": [],
   "source": [
    "import sys\n",
    "try:\n",
    "    sys.path.insert(0, \"/usr/lib/python3.7/site-packages\")\n",
    "except FileNotFoundError:\n",
    "    pass\n",
    "\n",
    "import requests\n",
    "from bs4 import BeautifulSoup\n",
    "from fake_useragent import UserAgent\n",
    "\n",
    "import pandas as pd\n",
    "import numpy as nm"
   ]
  },
  {
   "cell_type": "code",
   "execution_count": 61,
   "metadata": {},
   "outputs": [],
   "source": [
    "month = {\"Jan\": \"1\", \"Feb\": \"2\", \"Mar\": \"3\",\n",
    "          \"Apr\": \"4\", \"May\": \"5\", \"Jun\": \"6\",\n",
    "          \"Jul\": \"7\", \"Aug\": \"8\", \"Sep\": \"9\",\n",
    "          \"Oct\": \"10\",\"Nov\": \"11\",\"Dec\": \"12\"}"
   ]
  },
  {
   "cell_type": "code",
   "execution_count": 62,
   "metadata": {},
   "outputs": [],
   "source": [
    "def get_table(URL, cls):\n",
    "    # обход блокировок сайта\n",
    "    agent = UserAgent()\n",
    "    page = requests.get(URL, headers={'User-Agent': agent.random})\n",
    "    text = BeautifulSoup(page.text, \"html.parser\")\n",
    "    \n",
    "    all_sent = text.find_all(class_=cls)\n",
    "    dates    = text.find_all(class_=\"item-date\")\n",
    "    all_items = []\n",
    "    for sent, date in zip(all_sent, dates):\n",
    "        sent = sent.get_text()\n",
    "        date = date.get_text()\n",
    "        date = date.replace(\".\",\"\").replace(\",\",\"\").split()\n",
    "        date = month[date[0]] + \".\" + date[1] + \".\" + date[2]\n",
    "        all_items += [[date, sent]]\n",
    "    return all_items"
   ]
  },
  {
   "cell_type": "code",
   "execution_count": 63,
   "metadata": {},
   "outputs": [],
   "source": [
    "URL = \"https://seekingalpha.com/market-news/m-a?page=100\"\n",
    "source = get_table(URL, cls=\"media-body\")"
   ]
  },
  {
   "cell_type": "code",
   "execution_count": 69,
   "metadata": {},
   "outputs": [
    {
     "name": "stdout",
     "output_type": "stream",
     "text": [
      "['11.3.2017', 'Seacoast closes $71.6M deal for Palm Beach Community Bank Seacoast Banking (NASDAQ:SBCF) has closed an acquisition of Palm Beach Community Bank for consideration of about $71.6M. Palm Beach Community Bank shares are converted into the right to receive 0.924 of a share of Seacoast common stock and $6.26 in cash -- a total value of $28.57/share of Palm Beach stock. The deal adds about $320M in assets, $265M in deposits and $270M in loans to Seacoast. \\xa0\\xa0\\xa0\\xa0|Nov. 3, 2017, 7:28 PM ']\n"
     ]
    }
   ],
   "source": [
    "print(source[19])"
   ]
  },
  {
   "cell_type": "code",
   "execution_count": null,
   "metadata": {},
   "outputs": [],
   "source": []
  }
 ],
 "metadata": {
  "kernelspec": {
   "display_name": "Python 3",
   "language": "python",
   "name": "python3"
  },
  "language_info": {
   "codemirror_mode": {
    "name": "ipython",
    "version": 3
   },
   "file_extension": ".py",
   "mimetype": "text/x-python",
   "name": "python",
   "nbconvert_exporter": "python",
   "pygments_lexer": "ipython3",
   "version": "3.7.4"
  }
 },
 "nbformat": 4,
 "nbformat_minor": 2
}
