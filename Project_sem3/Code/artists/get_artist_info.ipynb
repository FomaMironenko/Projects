{
 "cells": [
  {
   "cell_type": "markdown",
   "metadata": {},
   "source": [
    "# Use after get_artists_url.ipynb"
   ]
  },
  {
   "cell_type": "markdown",
   "metadata": {},
   "source": [
    "## Fills the artists dataset with information from mutualart.com"
   ]
  },
  {
   "cell_type": "markdown",
   "metadata": {},
   "source": [
    "#### initially inpath (artists.csv) contains names and corresponding links to mutalart pages."
   ]
  },
  {
   "cell_type": "code",
   "execution_count": 1,
   "metadata": {},
   "outputs": [],
   "source": [
    "import sys\n",
    "try:\n",
    "    sys.path.insert(0, \"/usr/lib/python3.7/site-packages\")\n",
    "except FileNotFoundError:\n",
    "    pass\n",
    "\n",
    "import numpy as np\n",
    "import pandas as pd\n",
    "\n",
    "import requests\n",
    "from bs4 import BeautifulSoup\n",
    "from fake_useragent import UserAgent"
   ]
  },
  {
   "cell_type": "code",
   "execution_count": 4,
   "metadata": {},
   "outputs": [],
   "source": [
    "inpath = \"artists.csv\"\n",
    "df = pd.read_csv(inpath)\n",
    "del(df[\"Unnamed: 0\"])\n",
    "#df.head(10)"
   ]
  },
  {
   "cell_type": "markdown",
   "metadata": {},
   "source": [
    "#### Parce information for columns: \n",
    "#### Country\n",
    "#### Born\n",
    "#### Died\n",
    "#### Info (additional information)"
   ]
  },
  {
   "cell_type": "code",
   "execution_count": 5,
   "metadata": {},
   "outputs": [],
   "source": [
    "def get_additional(session, df):\n",
    "    arr = []\n",
    "    for i in range(df.shape[0]):\n",
    "        print(\"\\r         \", i, end=\"\")\n",
    "        tmp = [\"\"]*4\n",
    "        URL   = df.iloc[i][1]\n",
    "        if(str(URL) == \"nan\"):\n",
    "            arr += [tmp]\n",
    "            continue\n",
    "        agent = UserAgent()\n",
    "        agent.chrome\n",
    "        page  = s.get(URL, headers={'User-Agent': agent.chrome})\n",
    "        text  = BeautifulSoup(page.text, \"html.parser\")\n",
    "        essence = text.find_all(attrs={\"class\": \"desc col-xs-12\"})\n",
    "        if(len(essence) != 0):\n",
    "            essence = essence[0].get_text().replace(\",\", \"\").replace(\"\\n\", \"\").replace(\"\\t\", \"\")\n",
    "        else:\n",
    "            arr += [tmp]\n",
    "            continue\n",
    "        essence = essence.split(\"|\")\n",
    "        tmp[0] = essence[0].strip().rstrip()\n",
    "        if(len(essence) <= 1):\n",
    "            arr += [tmp]\n",
    "            continue\n",
    "        essence = essence[1].split(\"-\")\n",
    "        if(len(essence) <= 1):\n",
    "            arr += [[\"\", \"\", \"\", \"\"]]\n",
    "            continue\n",
    "        tmp[1], tmp[2] = essence[0].strip().rstrip(), essence[1].strip().rstrip()\n",
    "        biginf = [text.find_all(attrs={\"class\": \"bio\", \"itemprop\": \"description\"})[0].get_text()]\n",
    "        tmp[3] = biginf\n",
    "        arr += [tmp]\n",
    "    return arr"
   ]
  },
  {
   "cell_type": "code",
   "execution_count": 6,
   "metadata": {},
   "outputs": [
    {
     "name": "stdout",
     "output_type": "stream",
     "text": [
      "          160"
     ]
    }
   ],
   "source": [
    "s = requests.Session()\n",
    "arr = get_additional(s, df)"
   ]
  },
  {
   "cell_type": "code",
   "execution_count": 12,
   "metadata": {},
   "outputs": [],
   "source": [
    "df[\"Country\"] = [x[0] for x in arr]\n",
    "df[\"Born\"] = [x[1] for x in arr]\n",
    "df[\"Died\"] = [x[2] for x in arr]\n",
    "df[\"Info\"] = [x[3] for x in arr]"
   ]
  },
  {
   "cell_type": "code",
   "execution_count": 16,
   "metadata": {},
   "outputs": [
    {
     "data": {
      "text/html": [
       "<div>\n",
       "<style scoped>\n",
       "    .dataframe tbody tr th:only-of-type {\n",
       "        vertical-align: middle;\n",
       "    }\n",
       "\n",
       "    .dataframe tbody tr th {\n",
       "        vertical-align: top;\n",
       "    }\n",
       "\n",
       "    .dataframe thead th {\n",
       "        text-align: right;\n",
       "    }\n",
       "</style>\n",
       "<table border=\"1\" class=\"dataframe\">\n",
       "  <thead>\n",
       "    <tr style=\"text-align: right;\">\n",
       "      <th></th>\n",
       "      <th>Artists</th>\n",
       "      <th>URL</th>\n",
       "      <th>Country</th>\n",
       "      <th>Born</th>\n",
       "      <th>Died</th>\n",
       "      <th>Info</th>\n",
       "    </tr>\n",
       "  </thead>\n",
       "  <tbody>\n",
       "    <tr>\n",
       "      <th>110</th>\n",
       "      <td>Andrea Mantegna</td>\n",
       "      <td>https://www.mutualart.com/Artist/Andrea-Manteg...</td>\n",
       "      <td>Italian</td>\n",
       "      <td>1431</td>\n",
       "      <td>1506</td>\n",
       "      <td>[\"\\r\\n                                Andrea M...</td>\n",
       "    </tr>\n",
       "    <tr>\n",
       "      <th>111</th>\n",
       "      <td>Jeff Koons</td>\n",
       "      <td>https://www.mutualart.com/Artist/Jeff-Koons/AB...</td>\n",
       "      <td>NaN</td>\n",
       "      <td>NaN</td>\n",
       "      <td>NaN</td>\n",
       "      <td>NaN</td>\n",
       "    </tr>\n",
       "    <tr>\n",
       "      <th>112</th>\n",
       "      <td>Gino Severini</td>\n",
       "      <td>https://www.mutualart.com/Artist/Gino-Severini...</td>\n",
       "      <td>Italian</td>\n",
       "      <td>1883</td>\n",
       "      <td>1966</td>\n",
       "      <td>[\\r\\n                                Gino Seve...</td>\n",
       "    </tr>\n",
       "    <tr>\n",
       "      <th>113</th>\n",
       "      <td>Max Beckmann</td>\n",
       "      <td>https://www.mutualart.com/Artist/Max-Beckmann/...</td>\n",
       "      <td>German</td>\n",
       "      <td>1884</td>\n",
       "      <td>1950</td>\n",
       "      <td>[\\r\\n                                Max Beckm...</td>\n",
       "    </tr>\n",
       "    <tr>\n",
       "      <th>114</th>\n",
       "      <td>Georgia O′Keeffe</td>\n",
       "      <td>NaN</td>\n",
       "      <td></td>\n",
       "      <td></td>\n",
       "      <td></td>\n",
       "      <td></td>\n",
       "    </tr>\n",
       "    <tr>\n",
       "      <th>115</th>\n",
       "      <td>Cy Twombly</td>\n",
       "      <td>https://www.mutualart.com/Artist/Cy-Twombly/C5...</td>\n",
       "      <td>American</td>\n",
       "      <td>1928</td>\n",
       "      <td>2011</td>\n",
       "      <td>[\\r\\n                                Edwin Par...</td>\n",
       "    </tr>\n",
       "    <tr>\n",
       "      <th>116</th>\n",
       "      <td>Lucio Fontana</td>\n",
       "      <td>https://www.mutualart.com/Artist/Lucio-Fontana...</td>\n",
       "      <td>Italian</td>\n",
       "      <td>1899</td>\n",
       "      <td>1968</td>\n",
       "      <td>[\\r\\n                                Influenti...</td>\n",
       "    </tr>\n",
       "    <tr>\n",
       "      <th>117</th>\n",
       "      <td>Paul Gauguin</td>\n",
       "      <td>https://www.mutualart.com/Artist/Paul-Gauguin/...</td>\n",
       "      <td>French</td>\n",
       "      <td>1848</td>\n",
       "      <td>1903</td>\n",
       "      <td>[\\r\\n                                French ar...</td>\n",
       "    </tr>\n",
       "    <tr>\n",
       "      <th>118</th>\n",
       "      <td>Marc Chagall</td>\n",
       "      <td>https://www.mutualart.com/Artist/Marc-Chagall/...</td>\n",
       "      <td>Russian</td>\n",
       "      <td>1887</td>\n",
       "      <td>1985</td>\n",
       "      <td>[\\r\\n                                Marc Chag...</td>\n",
       "    </tr>\n",
       "    <tr>\n",
       "      <th>119</th>\n",
       "      <td>Tang Yin</td>\n",
       "      <td>https://www.mutualart.com/Artist/Tang-Yingwei/...</td>\n",
       "      <td></td>\n",
       "      <td></td>\n",
       "      <td></td>\n",
       "      <td></td>\n",
       "    </tr>\n",
       "  </tbody>\n",
       "</table>\n",
       "</div>"
      ],
      "text/plain": [
       "              Artists                                                URL  \\\n",
       "110   Andrea Mantegna  https://www.mutualart.com/Artist/Andrea-Manteg...   \n",
       "111        Jeff Koons  https://www.mutualart.com/Artist/Jeff-Koons/AB...   \n",
       "112     Gino Severini  https://www.mutualart.com/Artist/Gino-Severini...   \n",
       "113      Max Beckmann  https://www.mutualart.com/Artist/Max-Beckmann/...   \n",
       "114  Georgia O′Keeffe                                                NaN   \n",
       "115        Cy Twombly  https://www.mutualart.com/Artist/Cy-Twombly/C5...   \n",
       "116     Lucio Fontana  https://www.mutualart.com/Artist/Lucio-Fontana...   \n",
       "117      Paul Gauguin  https://www.mutualart.com/Artist/Paul-Gauguin/...   \n",
       "118      Marc Chagall  https://www.mutualart.com/Artist/Marc-Chagall/...   \n",
       "119          Tang Yin  https://www.mutualart.com/Artist/Tang-Yingwei/...   \n",
       "\n",
       "      Country  Born  Died                                               Info  \n",
       "110   Italian  1431  1506  [\"\\r\\n                                Andrea M...  \n",
       "111       NaN   NaN   NaN                                                NaN  \n",
       "112   Italian  1883  1966  [\\r\\n                                Gino Seve...  \n",
       "113    German  1884  1950  [\\r\\n                                Max Beckm...  \n",
       "114                                                                           \n",
       "115  American  1928  2011  [\\r\\n                                Edwin Par...  \n",
       "116   Italian  1899  1968  [\\r\\n                                Influenti...  \n",
       "117    French  1848  1903  [\\r\\n                                French ar...  \n",
       "118   Russian  1887  1985  [\\r\\n                                Marc Chag...  \n",
       "119                                                                           "
      ]
     },
     "execution_count": 16,
     "metadata": {},
     "output_type": "execute_result"
    }
   ],
   "source": [
    "df.iloc[110:120]"
   ]
  },
  {
   "cell_type": "code",
   "execution_count": 15,
   "metadata": {},
   "outputs": [],
   "source": [
    "df.to_csv(inpath)"
   ]
  }
 ],
 "metadata": {
  "kernelspec": {
   "display_name": "Python 3",
   "language": "python",
   "name": "python3"
  },
  "language_info": {
   "codemirror_mode": {
    "name": "ipython",
    "version": 3
   },
   "file_extension": ".py",
   "mimetype": "text/x-python",
   "name": "python",
   "nbconvert_exporter": "python",
   "pygments_lexer": "ipython3",
   "version": "3.7.4"
  }
 },
 "nbformat": 4,
 "nbformat_minor": 2
}
